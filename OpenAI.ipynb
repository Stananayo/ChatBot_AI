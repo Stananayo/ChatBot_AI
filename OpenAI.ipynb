{
  "nbformat": 4,
  "nbformat_minor": 0,
  "metadata": {
    "colab": {
      "provenance": [],
      "authorship_tag": "ABX9TyMK/uwMSPxKWA7AgkphJvZp"
    },
    "kernelspec": {
      "name": "python3",
      "display_name": "Python 3"
    },
    "language_info": {
      "name": "python"
    }
  },
  "cells": [
    {
      "cell_type": "code",
      "execution_count": 5,
      "metadata": {
        "colab": {
          "base_uri": "https://localhost:8080/"
        },
        "id": "8s7jOC8A1X-R",
        "outputId": "e522950c-51ec-48a8-d844-0cb7eac8edcf"
      },
      "outputs": [
        {
          "output_type": "stream",
          "name": "stdout",
          "text": [
            "As the silver moon bathed the enchanted forest in its glow, the gentle unicorn danced among the twinkling stars, spreading dreams of magic and wonder to all who slept below.\n"
          ]
        }
      ],
      "source": [
        "# Install the OpenAI library\n",
        "%pip install openai -q\n",
        "\n",
        "import openai\n",
        "import os\n",
        "from google.colab import userdata\n",
        "\n",
        "# Get the API key from Colab secrets\n",
        "# Make sure you have added your OpenAI API key to the Colab secrets with the name 'OPENAI_API_KEY'\n",
        "api_key = userdata.get('OPENAI_API_KEY')\n",
        "\n",
        "# Create a client\n",
        "client = openai.OpenAI(api_key=api_key)\n",
        "\n",
        "# Make the API call\n",
        "response = client.chat.completions.create(\n",
        "    model=\"gpt-4o-mini\", # Using a more cost-effective model\n",
        "    messages=[{\"role\": \"user\", \"content\": \"Write a one-sentence bedtime story about a unicorn.\"}]\n",
        ")\n",
        "\n",
        "# Print the response\n",
        "print(response.choices[0].message.content)"
      ]
    },
    {
      "cell_type": "code",
      "source": [],
      "metadata": {
        "id": "_tJaG9lP3Z19"
      },
      "execution_count": null,
      "outputs": []
    },
    {
      "cell_type": "code",
      "execution_count": 6,
      "metadata": {
        "colab": {
          "base_uri": "https://localhost:8080/"
        },
        "outputId": "802c811f-a721-45b2-c022-c8a317ffa953",
        "id": "YHa3Ng4y-8n4"
      },
      "outputs": [
        {
          "output_type": "stream",
          "name": "stdout",
          "text": [
            "Diagnosing and treating tuberculosis (TB) involves a series of steps. Here's a general overview:\n",
            "\n",
            "### Diagnosis of Tuberculosis\n",
            "\n",
            "1. **Medical History and Physical Examination**: The healthcare provider will begin with questions about symptoms, such as a persistent cough (lasting more than three weeks), coughing up blood, chest pain, fever, night sweats, weight loss, and fatigue. A history of exposure to TB or previous TB infections is also important.\n",
            "\n",
            "2. **Tuberculin Skin Test (TST)**: Also known as the Mantoux test, a small amount of tuberculin protein is injected under the skin. After 48-72 hours, the injection site is examined for swelling. A positive reaction may indicate TB exposure but does not confirm active disease.\n",
            "\n",
            "3. **Interferon-gamma Release Assays (IGRAs)**: Blood tests (e.g., QuantiFERON-TB Gold, T-SPOT.TB) can help determine if someone has been infected with TB bacteria. These tests are particularly useful for individuals who have had the BCG vaccine or for those who might not return for a skin test reading.\n",
            "\n",
            "4. **Imaging Tests**: Chest X-rays or CT scans are used to identify abnormalities in the lungs associated with active TB.\n",
            "\n",
            "5. **Bacteriological Tests**: A sample from a patient’s sputum or other bodily fluids is tested in the laboratory. This can include:\n",
            "   - **Sputum Smear Microscopy**: Staining and examining sputum under a microscope for TB bacteria.\n",
            "   - **Culture**: Growing the bacteria in a lab to confirm infection and determine resistance.\n",
            "   - **Molecular Tests (e.g., PCR)**: Rapid tests can help identify TB DNA, informing diagnosis and treatment decisions.\n",
            "\n",
            "### Treatment of Tuberculosis\n",
            "\n",
            "1. **Medications**: TB is treated with a combination of antibiotics. The standard treatment regimen for latent TB usually involves:\n",
            "   - Isoniazid for 6 to 9 months.\n",
            "   - Rifampicin for 4 months, or\n",
            "   - A combination of isoniazid and rifapentine for 3 months.\n",
            "\n",
            "   For active TB, a common regimen involves a combination of four antibiotics:\n",
            "   - Isoniazid (INH)\n",
            "   - Rifampicin (RIF)\n",
            "   - Ethambutol (EMB)\n",
            "   - Pyrazinamide (PZA)\n",
            "\n",
            "   This initial phase usually lasts for two months followed by a continuation phase with isoniazid and rifampicin for an additional four to seven months, depending on the specific circumstances.\n",
            "\n",
            "2. **Directly Observed Therapy (DOT)**: In many cases, healthcare providers may recommend DOT, where a health worker observes the patient taking their medication to ensure adherence, especially in cases of multidrug-resistant TB (MDR-TB).\n",
            "\n",
            "3. **Monitoring and Follow-up**: Regular monitoring for side effects of medications, treatment adherence, and response to therapy is essential. Sputum tests may be repeated to ensure the bacteria are no longer present.\n",
            "\n",
            "4. **Preventive Strategies**: Individuals diagnosed with latent TB infection may be offered preventive treatment to reduce the risk of developing active TB. Vaccination with BCG (Bacillus Calmette-Guérin) is common in certain countries to reduce the severity of TB disease in children.\n",
            "\n",
            "### Important Considerations\n",
            "\n",
            "- **Multidrug-Resistant TB (MDR-TB)**: This form of TB is resistant to at least isoniazid and rifampicin. Treatment for MDR-TB is more complex and typically requires a longer duration of therapy with second-line medications.\n",
            "  \n",
            "- **Infection Control**: Those with active TB should take measures to prevent spreading the bacteria to others, especially in enclosed spaces.\n",
            "\n",
            "- **Public Health Reporting**: TB cases are often reportable to public health authorities for epidemiological monitoring and management.\n",
            "\n",
            "If you suspect tuberculosis or have been exposed, it is important to seek medical attention for appropriate testing and intervention.\n"
          ]
        }
      ],
      "source": [
        "# Install the OpenAI library\n",
        "%pip install openai -q\n",
        "\n",
        "import openai\n",
        "import os\n",
        "from google.colab import userdata\n",
        "\n",
        "# Get the API key from Colab secrets\n",
        "# Make sure you have added your OpenAI API key to the Colab secrets with the name 'OPENAI_API_KEY'\n",
        "api_key = userdata.get('OPENAI_API_KEY')\n",
        "\n",
        "# Create a client\n",
        "client = openai.OpenAI(api_key=api_key)\n",
        "\n",
        "# Make the API call\n",
        "response = client.chat.completions.create(\n",
        "    model=\"gpt-4o-mini\", # Using a more cost-effective model\n",
        "    messages=[{\"role\": \"user\", \"content\": \"How to diagnosis and treat tuberculosis.\"}]\n",
        ")\n",
        "\n",
        "# Print the response\n",
        "print(response.choices[0].message.content)"
      ]
    }
  ]
}